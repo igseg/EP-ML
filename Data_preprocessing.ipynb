{
 "cells": [
  {
   "cell_type": "code",
   "execution_count": 1,
   "id": "7419d336-9044-4dd6-b5ba-0bcc3b9faa01",
   "metadata": {},
   "outputs": [],
   "source": [
    "import pandas  as pd\n",
    "import numpy   as np\n",
    "import matplotlib.pyplot as plt\n",
    "import pickle\n",
    "import shap\n",
    "from xgboost                 import XGBRegressor\n",
    "from sklearn.model_selection import GridSearchCV, train_test_split # Maybe RandomizedSearchCV is more interesting\n",
    "from sklearn.preprocessing   import OneHotEncoder"
   ]
  },
  {
   "cell_type": "code",
   "execution_count": 2,
   "id": "e56fce7a-8d88-45de-a603-e595b2bab383",
   "metadata": {},
   "outputs": [
    {
     "name": "stderr",
     "output_type": "stream",
     "text": [
      "Columns (83,87,89,91,93,95,97,101,109,115,172,174,176,178) have mixed types.Specify dtype option on import or set low_memory=False.\n",
      "Columns (13,25) have mixed types.Specify dtype option on import or set low_memory=False.\n"
     ]
    }
   ],
   "source": [
    "data_th = pd.read_csv('data/ECV_Th_2021.csv', delimiter='\\t')\n",
    "data_th = data_th.replace(' ', '')\n",
    "data_th = data_th.replace('  ', '')\n",
    "data_th = data_th.replace('', np.nan)\n",
    "for column in range(data_th.shape[1]):\n",
    "    if column == 1:\n",
    "        continue\n",
    "        \n",
    "    if data_th.iloc[:,column].dtype in (int, object):\n",
    "        data_th.iloc[:,column] = data_th.iloc[:,column].astype(float)\n",
    "\n",
    "\n",
    "problematic_columns = (83,87,89,91,93,95,97,101,109,115,172,174,176,178)\n",
    "\n",
    "for column in problematic_columns:\n",
    "     data_th.iloc[:,column] = data_th.iloc[:,column].astype(float)\n",
    "\n",
    "data_tp = pd.read_csv('data/ECV_Tp_2021.csv', delimiter='\\t')\n",
    "data_tp = data_tp.replace(' ', '')\n",
    "data_tp = data_tp.replace('  ', '')\n",
    "data_tp = data_tp.replace('', np.nan)\n",
    "\n",
    "data_tp['PB030'] = data_tp['PB030'] // 100 # converting all members of the same house to the same identifier\n",
    "data_tp = data_tp.groupby('PB030', as_index=False).mean() # grouping by house using the mean value\n",
    "\n",
    "data_td = pd.read_csv('data/ECV_Td_2021.csv', delimiter='\\t')\n",
    "data_td = data_td.replace(' ', '')\n",
    "data_td = data_td.replace('  ', '')\n",
    "data_td = data_td.replace('', np.nan)\n",
    "\n",
    "data_tr = pd.read_csv('data/ECV_Tr_2021.csv', delimiter='\\t')\n",
    "data_tr = data_tr.replace(' ', '')\n",
    "data_tr = data_tr.replace('  ', '')\n",
    "data_tr = data_tr.replace('', np.nan)\n",
    "\n",
    "problematic_columns = (13,25)\n",
    "\n",
    "for column in problematic_columns:\n",
    "     data_tr.iloc[:,column] = data_tr.iloc[:,column].astype(float)\n",
    "        \n",
    "data_tr['RB030'] = data_tr['RB030'] // 100\n",
    "data_tr = data_tr.groupby('RB030', as_index=False).mean()\n",
    "\n",
    "data = data_th.merge(data_tp, left_on='HB030', right_on='PB030')\n",
    "data = data.merge(data_td, left_on='HB030', right_on='DB030')\n",
    "data = data.merge(data_tr, left_on='HB030', right_on='RB030')\n",
    "\n",
    "ohe = OneHotEncoder()\n",
    "transformed = ohe.fit_transform(data[['DB040']])\n",
    "data[ohe.categories_[0]] = transformed.toarray()\n",
    "data.drop(['DB040'], axis = 1, inplace= True)"
   ]
  },
  {
   "cell_type": "code",
   "execution_count": 3,
   "id": "85a3c3a1-4c26-4a55-b41b-a74e6bbc8e31",
   "metadata": {},
   "outputs": [],
   "source": [
    "data.to_csv('data/merged_data.csv', index=False)"
   ]
  }
 ],
 "metadata": {
  "kernelspec": {
   "display_name": "Python 3",
   "language": "python",
   "name": "python3"
  },
  "language_info": {
   "codemirror_mode": {
    "name": "ipython",
    "version": 3
   },
   "file_extension": ".py",
   "mimetype": "text/x-python",
   "name": "python",
   "nbconvert_exporter": "python",
   "pygments_lexer": "ipython3",
   "version": "3.9.5"
  }
 },
 "nbformat": 4,
 "nbformat_minor": 5
}
